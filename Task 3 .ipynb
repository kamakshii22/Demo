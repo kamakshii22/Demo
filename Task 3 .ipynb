{
 "cells": [
  {
   "cell_type": "markdown",
   "id": "f16478b3",
   "metadata": {},
   "source": [
    "## TASK 3"
   ]
  },
  {
   "cell_type": "code",
   "execution_count": 15,
   "id": "cfc7dbe5",
   "metadata": {},
   "outputs": [],
   "source": [
    "def positive_no(input_list):\n",
    "    result = []\n",
    "    for num in input_list:\n",
    "        if num >= 0:\n",
    "            result.append(num)\n",
    "    return result"
   ]
  },
  {
   "cell_type": "code",
   "execution_count": 13,
   "id": "fe7be760",
   "metadata": {},
   "outputs": [
    {
     "name": "stdout",
     "output_type": "stream",
     "text": [
      "[12, 5, 64]\n"
     ]
    }
   ],
   "source": [
    "# Example usage:\n",
    "list1 = [12, -7, 5, 64, -14]\n",
    "print(positive_no(list1))"
   ]
  },
  {
   "cell_type": "code",
   "execution_count": 14,
   "id": "18cf08d6",
   "metadata": {},
   "outputs": [
    {
     "data": {
      "text/plain": [
       "[12, 14, 3]"
      ]
     },
     "execution_count": 14,
     "metadata": {},
     "output_type": "execute_result"
    }
   ],
   "source": [
    "list2 = [12, 14, -95, 3]\n",
    "positive_no(list2)"
   ]
  },
  {
   "cell_type": "code",
   "execution_count": null,
   "id": "3c8bfaf9",
   "metadata": {},
   "outputs": [],
   "source": []
  }
 ],
 "metadata": {
  "kernelspec": {
   "display_name": "Python 3 (ipykernel)",
   "language": "python",
   "name": "python3"
  },
  "language_info": {
   "codemirror_mode": {
    "name": "ipython",
    "version": 3
   },
   "file_extension": ".py",
   "mimetype": "text/x-python",
   "name": "python",
   "nbconvert_exporter": "python",
   "pygments_lexer": "ipython3",
   "version": "3.11.5"
  }
 },
 "nbformat": 4,
 "nbformat_minor": 5
}
