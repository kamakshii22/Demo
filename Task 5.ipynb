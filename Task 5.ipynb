{
 "cells": [
  {
   "cell_type": "markdown",
   "id": "f8303ded",
   "metadata": {},
   "source": [
    "## Set Operations"
   ]
  },
  {
   "cell_type": "code",
   "execution_count": 9,
   "id": "68704ab6",
   "metadata": {},
   "outputs": [],
   "source": [
    "E = {0, 2, 4, 6, 8}\n",
    "N = {1, 2, 3, 5, 8}"
   ]
  },
  {
   "cell_type": "code",
   "execution_count": 10,
   "id": "c4b7dcda",
   "metadata": {},
   "outputs": [
    {
     "name": "stdout",
     "output_type": "stream",
     "text": [
      "Union: {0, 1, 2, 3, 4, 5, 6, 8}\n"
     ]
    }
   ],
   "source": [
    "union_result = E.union(N)\n",
    "print(f\"Union: {union_result}\")"
   ]
  },
  {
   "cell_type": "code",
   "execution_count": 11,
   "id": "0ccfd9e5",
   "metadata": {},
   "outputs": [
    {
     "name": "stdout",
     "output_type": "stream",
     "text": [
      "Intersection : {8, 2}\n"
     ]
    }
   ],
   "source": [
    "intersection_result = E.intersection(N)\n",
    "print(f\"Intersection : {intersection_result}\")"
   ]
  },
  {
   "cell_type": "code",
   "execution_count": 12,
   "id": "567b3377",
   "metadata": {},
   "outputs": [
    {
     "name": "stdout",
     "output_type": "stream",
     "text": [
      "Difference: {0, 4, 6}\n"
     ]
    }
   ],
   "source": [
    "difference_result = E.difference(N)\n",
    "print(f\"Difference: {difference_result}\")"
   ]
  },
  {
   "cell_type": "code",
   "execution_count": 13,
   "id": "da2d88ad",
   "metadata": {},
   "outputs": [
    {
     "name": "stdout",
     "output_type": "stream",
     "text": [
      "Symmetric: {0, 1, 3, 4, 5, 6}\n"
     ]
    }
   ],
   "source": [
    "symmetric_difference_result = E.symmetric_difference(N)\n",
    "print(f\"Symmetric: {symmetric_difference_result}\")"
   ]
  },
  {
   "cell_type": "code",
   "execution_count": null,
   "id": "5fa7b62c",
   "metadata": {},
   "outputs": [],
   "source": []
  }
 ],
 "metadata": {
  "kernelspec": {
   "display_name": "Python 3 (ipykernel)",
   "language": "python",
   "name": "python3"
  },
  "language_info": {
   "codemirror_mode": {
    "name": "ipython",
    "version": 3
   },
   "file_extension": ".py",
   "mimetype": "text/x-python",
   "name": "python",
   "nbconvert_exporter": "python",
   "pygments_lexer": "ipython3",
   "version": "3.11.5"
  }
 },
 "nbformat": 4,
 "nbformat_minor": 5
}
